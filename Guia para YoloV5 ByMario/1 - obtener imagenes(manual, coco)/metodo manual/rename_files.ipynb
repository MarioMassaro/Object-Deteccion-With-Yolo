{
 "cells": [
  {
   "cell_type": "markdown",
   "metadata": {},
   "source": [
    "## Script para cambiar el nombre a las imágenes  que se encuentran en una carpeta o directorio"
   ]
  },
  {
   "cell_type": "code",
   "execution_count": 45,
   "metadata": {},
   "outputs": [],
   "source": [
    "#Importamos las librerias para el manejo de archivos\n",
    "import os\n",
    "import random\n",
    "from shutil import copyfile\n",
    "import shutil"
   ]
  },
  {
   "cell_type": "code",
   "execution_count": 46,
   "metadata": {},
   "outputs": [],
   "source": [
    "#Colocar el nombre del directorio\n",
    "dir = \"all_images\"\n",
    "#Colocar el nombre de nuestra clase (No usar espacios)\n",
    "name_class=\"Oxxo\""
   ]
  },
  {
   "cell_type": "markdown",
   "metadata": {},
   "source": [
    "### *Correr solo una vez*"
   ]
  },
  {
   "cell_type": "code",
   "execution_count": 50,
   "metadata": {},
   "outputs": [
    {
     "name": "stdout",
     "output_type": "stream",
     "text": [
      "Archivos JPG totales 214\n"
     ]
    }
   ],
   "source": [
    "count = 0\n",
    "list_files=os.listdir(dir)\n",
    "new_dir=dir+\"_rename\"\n",
    "\n",
    "if not os.path.exists(new_dir):\n",
    "    os.makedirs(new_dir)     \n",
    "else :\n",
    "    shutil.rmtree(new_dir)\n",
    "        \n",
    "for filename in list_files:\n",
    "    if filename.endswith(\".jpg\"):\n",
    "        new_name=name_class+'_'+str(count)+ '.'+ filename.split('.')[-1]\n",
    "        copyfile( os.path.join(dir, filename),os.path.join(new_dir, new_name ) )\n",
    "        #print(filename,\"-->\" , new_name)\n",
    "        count += 1\n",
    "print(\"Archivos JPG totales\", count)"
   ]
  },
  {
   "cell_type": "code",
   "execution_count": null,
   "metadata": {},
   "outputs": [],
   "source": []
  }
 ],
 "metadata": {
  "kernelspec": {
   "display_name": "Python 3",
   "language": "python",
   "name": "python3"
  },
  "language_info": {
   "codemirror_mode": {
    "name": "ipython",
    "version": 3
   },
   "file_extension": ".py",
   "mimetype": "text/x-python",
   "name": "python",
   "nbconvert_exporter": "python",
   "pygments_lexer": "ipython3",
   "version": "3.7.7"
  }
 },
 "nbformat": 4,
 "nbformat_minor": 4
}
