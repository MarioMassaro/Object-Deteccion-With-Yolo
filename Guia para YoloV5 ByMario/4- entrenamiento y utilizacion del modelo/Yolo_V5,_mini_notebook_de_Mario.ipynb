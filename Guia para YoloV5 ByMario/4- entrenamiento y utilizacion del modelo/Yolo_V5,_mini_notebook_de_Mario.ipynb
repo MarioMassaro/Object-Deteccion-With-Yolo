{
  "nbformat": 4,
  "nbformat_minor": 0,
  "metadata": {
    "colab": {
      "name": "Yolo V5, mini notebook de Mario",
      "provenance": [],
      "collapsed_sections": [],
      "toc_visible": true
    },
    "kernelspec": {
      "name": "python3",
      "display_name": "Python 3"
    },
    "accelerator": "GPU"
  },
  "cells": [
    {
      "cell_type": "markdown",
      "metadata": {
        "id": "tFf6QlqeLs6v"
      },
      "source": [
        "# 1. copiamos el repositorio de yolov5"
      ]
    },
    {
      "cell_type": "code",
      "metadata": {
        "id": "wbvMlHd_QwMG",
        "colab": {
          "base_uri": "https://localhost:8080/"
        },
        "outputId": "25eb7ae0-821d-4709-bc8c-137427d8227f"
      },
      "source": [
        "!git clone https://github.com/ultralytics/yolov5  # clone repo\n",
        "%cd yolov5\n",
        "%pip install -qr requirements.txt  # install dependencies\n",
        "\n",
        "import torch\n",
        "from IPython.display import Image, clear_output  # to display images\n",
        "\n",
        "clear_output()\n",
        "print(f\"Setup complete. Using torch {torch.__version__} ({torch.cuda.get_device_properties(0).name if torch.cuda.is_available() else 'CPU'})\")"
      ],
      "execution_count": null,
      "outputs": [
        {
          "output_type": "stream",
          "text": [
            "Setup complete. Using torch 1.8.1+cu101 (Tesla T4)\n"
          ],
          "name": "stdout"
        }
      ]
    },
    {
      "cell_type": "markdown",
      "metadata": {
        "id": "CmLpQ9GhLx-I"
      },
      "source": [
        "# 2. descomprimimos nuestro zip\n",
        "debera contener train y valid con sus carpetas images y labels, en caso de usar roboflow tambien data"
      ]
    },
    {
      "cell_type": "code",
      "metadata": {
        "id": "k-C0T2R5IKzN"
      },
      "source": [
        "!unzip -q ../\"nuestro zip aqui\" -d ../"
      ],
      "execution_count": null,
      "outputs": []
    },
    {
      "cell_type": "markdown",
      "metadata": {
        "id": "VUOiNLtMP5aG"
      },
      "source": [
        "# 3. entrenamos el modelo"
      ]
    },
    {
      "cell_type": "code",
      "metadata": {
        "id": "1NcFxRcFdJ_O",
        "colab": {
          "base_uri": "https://localhost:8080/"
        },
        "outputId": "a81fc0d6-610f-4250-b379-e72b4ee0e22f"
      },
      "source": [
        "!python train.py --img 640 --batch 16 --epochs 3 --data data.yaml --weights yolov5s.pt --nosave --cache"
      ],
      "execution_count": null,
      "outputs": [
        {
          "output_type": "stream",
          "text": [
            "\u001b[34m\u001b[1mgithub: \u001b[0mup to date with https://github.com/ultralytics/yolov5 ✅\n",
            "YOLOv5 🚀 v5.0-35-gaa78069 torch 1.8.1+cu101 CUDA:0 (Tesla T4, 15109.75MB)\n",
            "\n",
            "Namespace(adam=False, artifact_alias='latest', batch_size=16, bbox_interval=-1, bucket='', cache_images=True, cfg='', data='./data/data.yaml', device='', entity=None, epochs=3, evolve=False, exist_ok=False, global_rank=-1, hyp='data/hyp.scratch.yaml', image_weights=False, img_size=[640, 640], label_smoothing=0.0, linear_lr=False, local_rank=-1, multi_scale=False, name='exp', noautoanchor=False, nosave=True, notest=False, project='runs/train', quad=False, rect=False, resume=False, save_dir='runs/train/exp', save_period=-1, single_cls=False, sync_bn=False, total_batch_size=16, upload_dataset=False, weights='yolov5s.pt', workers=8, world_size=1)\n",
            "\u001b[34m\u001b[1mtensorboard: \u001b[0mStart with 'tensorboard --logdir runs/train', view at http://localhost:6006/\n",
            "2021-04-25 13:23:40.990835: I tensorflow/stream_executor/platform/default/dso_loader.cc:49] Successfully opened dynamic library libcudart.so.11.0\n",
            "\u001b[34m\u001b[1mhyperparameters: \u001b[0mlr0=0.01, lrf=0.2, momentum=0.937, weight_decay=0.0005, warmup_epochs=3.0, warmup_momentum=0.8, warmup_bias_lr=0.1, box=0.05, cls=0.5, cls_pw=1.0, obj=1.0, obj_pw=1.0, iou_t=0.2, anchor_t=4.0, fl_gamma=0.0, hsv_h=0.015, hsv_s=0.7, hsv_v=0.4, degrees=0.0, translate=0.1, scale=0.5, shear=0.0, perspective=0.0, flipud=0.0, fliplr=0.5, mosaic=1.0, mixup=0.0\n",
            "\u001b[34m\u001b[1mwandb: \u001b[0mInstall Weights & Biases for YOLOv5 logging with 'pip install wandb' (recommended)\n",
            "Downloading https://github.com/ultralytics/yolov5/releases/download/v5.0/yolov5s.pt to yolov5s.pt...\n",
            "100% 14.1M/14.1M [00:00<00:00, 76.3MB/s]\n",
            "\n",
            "Overriding model.yaml nc=80 with nc=1\n",
            "\n",
            "                 from  n    params  module                                  arguments                     \n",
            "  0                -1  1      3520  models.common.Focus                     [3, 32, 3]                    \n",
            "  1                -1  1     18560  models.common.Conv                      [32, 64, 3, 2]                \n",
            "  2                -1  1     18816  models.common.C3                        [64, 64, 1]                   \n",
            "  3                -1  1     73984  models.common.Conv                      [64, 128, 3, 2]               \n",
            "  4                -1  1    156928  models.common.C3                        [128, 128, 3]                 \n",
            "  5                -1  1    295424  models.common.Conv                      [128, 256, 3, 2]              \n",
            "  6                -1  1    625152  models.common.C3                        [256, 256, 3]                 \n",
            "  7                -1  1   1180672  models.common.Conv                      [256, 512, 3, 2]              \n",
            "  8                -1  1    656896  models.common.SPP                       [512, 512, [5, 9, 13]]        \n",
            "  9                -1  1   1182720  models.common.C3                        [512, 512, 1, False]          \n",
            " 10                -1  1    131584  models.common.Conv                      [512, 256, 1, 1]              \n",
            " 11                -1  1         0  torch.nn.modules.upsampling.Upsample    [None, 2, 'nearest']          \n",
            " 12           [-1, 6]  1         0  models.common.Concat                    [1]                           \n",
            " 13                -1  1    361984  models.common.C3                        [512, 256, 1, False]          \n",
            " 14                -1  1     33024  models.common.Conv                      [256, 128, 1, 1]              \n",
            " 15                -1  1         0  torch.nn.modules.upsampling.Upsample    [None, 2, 'nearest']          \n",
            " 16           [-1, 4]  1         0  models.common.Concat                    [1]                           \n",
            " 17                -1  1     90880  models.common.C3                        [256, 128, 1, False]          \n",
            " 18                -1  1    147712  models.common.Conv                      [128, 128, 3, 2]              \n",
            " 19          [-1, 14]  1         0  models.common.Concat                    [1]                           \n",
            " 20                -1  1    296448  models.common.C3                        [256, 256, 1, False]          \n",
            " 21                -1  1    590336  models.common.Conv                      [256, 256, 3, 2]              \n",
            " 22          [-1, 10]  1         0  models.common.Concat                    [1]                           \n",
            " 23                -1  1   1182720  models.common.C3                        [512, 512, 1, False]          \n",
            " 24      [17, 20, 23]  1     16182  models.yolo.Detect                      [1, [[10, 13, 16, 30, 33, 23], [30, 61, 62, 45, 59, 119], [116, 90, 156, 198, 373, 326]], [128, 256, 512]]\n",
            "Model Summary: 283 layers, 7063542 parameters, 7063542 gradients, 16.4 GFLOPS\n",
            "\n",
            "Transferred 356/362 items from yolov5s.pt\n",
            "Scaled weight_decay = 0.0005\n",
            "Optimizer groups: 62 .bias, 62 conv.weight, 59 other\n",
            "\u001b[34m\u001b[1mtrain: \u001b[0mScanning '../train/labels' images and labels... 438 found, 0 missing, 15 empty, 0 corrupted: 100% 438/438 [00:00<00:00, 3162.62it/s]\n",
            "\u001b[34m\u001b[1mtrain: \u001b[0mNew cache created: ../train/labels.cache\n",
            "\u001b[34m\u001b[1mtrain: \u001b[0mCaching images (0.5GB): 100% 438/438 [00:01<00:00, 283.08it/s]\n",
            "\u001b[34m\u001b[1mval: \u001b[0mScanning '../valid/labels' images and labels... 42 found, 0 missing, 0 empty, 0 corrupted: 100% 42/42 [00:00<00:00, 1519.90it/s]\n",
            "\u001b[34m\u001b[1mval: \u001b[0mNew cache created: ../valid/labels.cache\n",
            "\u001b[34m\u001b[1mval: \u001b[0mCaching images (0.1GB): 100% 42/42 [00:00<00:00, 207.19it/s]\n",
            "Plotting labels... \n",
            "\n",
            "\u001b[34m\u001b[1mautoanchor: \u001b[0mAnalyzing anchors... anchors/target = 4.55, Best Possible Recall (BPR) = 1.0000\n",
            "Image sizes 640 train, 640 test\n",
            "Using 2 dataloader workers\n",
            "Logging results to runs/train/exp\n",
            "Starting training for 3 epochs...\n",
            "\n",
            "     Epoch   gpu_mem       box       obj       cls     total    labels  img_size\n",
            "       0/2      1.9G    0.1101   0.03989         0      0.15        17       640: 100% 28/28 [00:11<00:00,  2.38it/s]\n",
            "               Class      Images      Labels           P           R      mAP@.5  mAP@.5:.95: 100% 2/2 [00:02<00:00,  1.50s/it]\n",
            "                 all          42         169     0.00987       0.467     0.00611    0.000951\n",
            "\n",
            "     Epoch   gpu_mem       box       obj       cls     total    labels  img_size\n",
            "       1/2     3.07G   0.09901   0.04651         0    0.1455        63       640: 100% 28/28 [00:06<00:00,  4.18it/s]\n",
            "               Class      Images      Labels           P           R      mAP@.5  mAP@.5:.95: 100% 2/2 [00:00<00:00,  3.43it/s]\n",
            "                 all          42         169      0.0231       0.462      0.0151      0.0028\n",
            "\n",
            "     Epoch   gpu_mem       box       obj       cls     total    labels  img_size\n",
            "       2/2     3.07G   0.09324   0.04965         0    0.1429        20       640: 100% 28/28 [00:06<00:00,  4.15it/s]\n",
            "               Class      Images      Labels           P           R      mAP@.5  mAP@.5:.95: 100% 2/2 [00:01<00:00,  1.44it/s]\n",
            "                 all          42         169      0.0596        0.42      0.0434     0.00807\n",
            "3 epochs completed in 0.010 hours.\n",
            "\n",
            "Optimizer stripped from runs/train/exp/weights/last.pt, 14.4MB\n",
            "Optimizer stripped from runs/train/exp/weights/best.pt, 14.4MB\n"
          ],
          "name": "stdout"
        }
      ]
    },
    {
      "cell_type": "markdown",
      "metadata": {
        "id": "_AQZ-sS4O7w4"
      },
      "source": [
        "# 4. utilizamos nuestro modelo\n",
        "cambiamos el \"source\" dependiendo del nombre de nuestro video, y si queremos que sea mas preciso habra que subirle el \"conf\" al gusto"
      ]
    },
    {
      "cell_type": "code",
      "metadata": {
        "colab": {
          "base_uri": "https://localhost:8080/"
        },
        "id": "DKafPCLwPgIy",
        "outputId": "80545e0a-c3e8-4089-81ae-b42ff9a8d3ca"
      },
      "source": [
        "!python detect.py --weights runs/train/exp/weights/best.pt --img 640 --conf 0.25 --source ../vid.mp4"
      ],
      "execution_count": null,
      "outputs": [
        {
          "output_type": "stream",
          "text": [
            "Namespace(agnostic_nms=False, augment=False, classes=None, conf_thres=0.25, device='', exist_ok=False, hide_conf=False, hide_labels=False, img_size=640, iou_thres=0.45, line_thickness=3, name='exp', nosave=False, project='runs/detect', save_conf=False, save_crop=False, save_txt=False, source='../vid.mp4', update=False, view_img=False, weights=['runs/train/exp/weights/best.pt'])\n",
            "YOLOv5 🚀 v5.0-35-gaa78069 torch 1.8.1+cu101 CUDA:0 (Tesla T4, 15109.75MB)\n",
            "\n",
            "Fusing layers... \n",
            "Model Summary: 224 layers, 7053910 parameters, 0 gradients, 16.3 GFLOPS\n",
            "video 1/1 (1/135) /content/yolov5/../vid.mp4: 352x640 Done. (0.009s)\n",
            "video 1/1 (2/135) /content/yolov5/../vid.mp4: 352x640 Done. (0.008s)\n",
            "video 1/1 (3/135) /content/yolov5/../vid.mp4: 352x640 Done. (0.008s)\n",
            "video 1/1 (4/135) /content/yolov5/../vid.mp4: 352x640 Done. (0.008s)\n",
            "video 1/1 (5/135) /content/yolov5/../vid.mp4: 352x640 Done. (0.008s)\n",
            "video 1/1 (6/135) /content/yolov5/../vid.mp4: 352x640 Done. (0.008s)\n",
            "video 1/1 (7/135) /content/yolov5/../vid.mp4: 352x640 Done. (0.008s)\n",
            "video 1/1 (8/135) /content/yolov5/../vid.mp4: 352x640 Done. (0.008s)\n",
            "video 1/1 (9/135) /content/yolov5/../vid.mp4: 352x640 Done. (0.008s)\n",
            "video 1/1 (10/135) /content/yolov5/../vid.mp4: 352x640 Done. (0.008s)\n",
            "video 1/1 (11/135) /content/yolov5/../vid.mp4: 352x640 Done. (0.008s)\n",
            "video 1/1 (12/135) /content/yolov5/../vid.mp4: 352x640 Done. (0.007s)\n",
            "video 1/1 (13/135) /content/yolov5/../vid.mp4: 352x640 Done. (0.007s)\n",
            "video 1/1 (14/135) /content/yolov5/../vid.mp4: 352x640 Done. (0.007s)\n",
            "video 1/1 (15/135) /content/yolov5/../vid.mp4: 352x640 Done. (0.007s)\n",
            "video 1/1 (16/135) /content/yolov5/../vid.mp4: 352x640 Done. (0.007s)\n",
            "video 1/1 (17/135) /content/yolov5/../vid.mp4: 352x640 Done. (0.007s)\n",
            "video 1/1 (18/135) /content/yolov5/../vid.mp4: 352x640 Done. (0.007s)\n",
            "video 1/1 (19/135) /content/yolov5/../vid.mp4: 352x640 Done. (0.007s)\n",
            "video 1/1 (20/135) /content/yolov5/../vid.mp4: 352x640 Done. (0.007s)\n",
            "video 1/1 (21/135) /content/yolov5/../vid.mp4: 352x640 Done. (0.007s)\n",
            "video 1/1 (22/135) /content/yolov5/../vid.mp4: 352x640 Done. (0.007s)\n",
            "video 1/1 (23/135) /content/yolov5/../vid.mp4: 352x640 Done. (0.007s)\n",
            "video 1/1 (24/135) /content/yolov5/../vid.mp4: 352x640 Done. (0.007s)\n",
            "video 1/1 (25/135) /content/yolov5/../vid.mp4: 352x640 Done. (0.007s)\n",
            "video 1/1 (26/135) /content/yolov5/../vid.mp4: 352x640 Done. (0.007s)\n",
            "video 1/1 (27/135) /content/yolov5/../vid.mp4: 352x640 Done. (0.010s)\n",
            "video 1/1 (28/135) /content/yolov5/../vid.mp4: 352x640 Done. (0.007s)\n",
            "video 1/1 (29/135) /content/yolov5/../vid.mp4: 352x640 Done. (0.007s)\n",
            "video 1/1 (30/135) /content/yolov5/../vid.mp4: 352x640 Done. (0.006s)\n",
            "video 1/1 (31/135) /content/yolov5/../vid.mp4: 352x640 Done. (0.006s)\n",
            "video 1/1 (32/135) /content/yolov5/../vid.mp4: 352x640 Done. (0.006s)\n",
            "video 1/1 (33/135) /content/yolov5/../vid.mp4: 352x640 Done. (0.008s)\n",
            "video 1/1 (34/135) /content/yolov5/../vid.mp4: 352x640 Done. (0.008s)\n",
            "video 1/1 (35/135) /content/yolov5/../vid.mp4: 352x640 Done. (0.006s)\n",
            "video 1/1 (36/135) /content/yolov5/../vid.mp4: 352x640 Done. (0.007s)\n",
            "video 1/1 (37/135) /content/yolov5/../vid.mp4: 352x640 Done. (0.007s)\n",
            "video 1/1 (38/135) /content/yolov5/../vid.mp4: 352x640 Done. (0.007s)\n",
            "video 1/1 (39/135) /content/yolov5/../vid.mp4: 352x640 Done. (0.007s)\n",
            "video 1/1 (40/135) /content/yolov5/../vid.mp4: 352x640 Done. (0.006s)\n",
            "video 1/1 (41/135) /content/yolov5/../vid.mp4: 352x640 Done. (0.006s)\n",
            "video 1/1 (42/135) /content/yolov5/../vid.mp4: 352x640 Done. (0.006s)\n",
            "video 1/1 (43/135) /content/yolov5/../vid.mp4: 352x640 Done. (0.006s)\n",
            "video 1/1 (44/135) /content/yolov5/../vid.mp4: 352x640 Done. (0.007s)\n",
            "video 1/1 (45/135) /content/yolov5/../vid.mp4: 352x640 Done. (0.006s)\n",
            "video 1/1 (46/135) /content/yolov5/../vid.mp4: 352x640 Done. (0.006s)\n",
            "video 1/1 (47/135) /content/yolov5/../vid.mp4: 352x640 Done. (0.006s)\n",
            "video 1/1 (48/135) /content/yolov5/../vid.mp4: 352x640 Done. (0.007s)\n",
            "video 1/1 (49/135) /content/yolov5/../vid.mp4: 352x640 Done. (0.008s)\n",
            "video 1/1 (50/135) /content/yolov5/../vid.mp4: 352x640 Done. (0.006s)\n",
            "video 1/1 (51/135) /content/yolov5/../vid.mp4: 352x640 Done. (0.006s)\n",
            "video 1/1 (52/135) /content/yolov5/../vid.mp4: 352x640 Done. (0.006s)\n",
            "video 1/1 (53/135) /content/yolov5/../vid.mp4: 352x640 Done. (0.006s)\n",
            "video 1/1 (54/135) /content/yolov5/../vid.mp4: 352x640 Done. (0.006s)\n",
            "video 1/1 (55/135) /content/yolov5/../vid.mp4: 352x640 Done. (0.009s)\n",
            "video 1/1 (56/135) /content/yolov5/../vid.mp4: 352x640 Done. (0.006s)\n",
            "video 1/1 (57/135) /content/yolov5/../vid.mp4: 352x640 Done. (0.006s)\n",
            "video 1/1 (58/135) /content/yolov5/../vid.mp4: 352x640 Done. (0.006s)\n",
            "video 1/1 (59/135) /content/yolov5/../vid.mp4: 352x640 Done. (0.006s)\n",
            "video 1/1 (60/135) /content/yolov5/../vid.mp4: 352x640 Done. (0.007s)\n",
            "video 1/1 (61/135) /content/yolov5/../vid.mp4: 352x640 Done. (0.006s)\n",
            "video 1/1 (62/135) /content/yolov5/../vid.mp4: 352x640 Done. (0.006s)\n",
            "video 1/1 (63/135) /content/yolov5/../vid.mp4: 352x640 Done. (0.008s)\n",
            "video 1/1 (64/135) /content/yolov5/../vid.mp4: 352x640 Done. (0.006s)\n",
            "video 1/1 (65/135) /content/yolov5/../vid.mp4: 352x640 Done. (0.006s)\n",
            "video 1/1 (66/135) /content/yolov5/../vid.mp4: 352x640 Done. (0.007s)\n",
            "video 1/1 (67/135) /content/yolov5/../vid.mp4: 352x640 Done. (0.006s)\n",
            "video 1/1 (68/135) /content/yolov5/../vid.mp4: 352x640 Done. (0.007s)\n",
            "video 1/1 (69/135) /content/yolov5/../vid.mp4: 352x640 Done. (0.007s)\n",
            "video 1/1 (70/135) /content/yolov5/../vid.mp4: 352x640 Done. (0.007s)\n",
            "video 1/1 (71/135) /content/yolov5/../vid.mp4: 352x640 Done. (0.006s)\n",
            "video 1/1 (72/135) /content/yolov5/../vid.mp4: 352x640 Done. (0.007s)\n",
            "video 1/1 (73/135) /content/yolov5/../vid.mp4: 352x640 Done. (0.006s)\n",
            "video 1/1 (74/135) /content/yolov5/../vid.mp4: 352x640 Done. (0.006s)\n",
            "video 1/1 (75/135) /content/yolov5/../vid.mp4: 352x640 Done. (0.006s)\n",
            "video 1/1 (76/135) /content/yolov5/../vid.mp4: 352x640 Done. (0.007s)\n",
            "video 1/1 (77/135) /content/yolov5/../vid.mp4: 352x640 Done. (0.008s)\n",
            "video 1/1 (78/135) /content/yolov5/../vid.mp4: 352x640 Done. (0.008s)\n",
            "video 1/1 (79/135) /content/yolov5/../vid.mp4: 352x640 Done. (0.007s)\n",
            "video 1/1 (80/135) /content/yolov5/../vid.mp4: 352x640 Done. (0.007s)\n",
            "video 1/1 (81/135) /content/yolov5/../vid.mp4: 352x640 Done. (0.007s)\n",
            "video 1/1 (82/135) /content/yolov5/../vid.mp4: 352x640 Done. (0.007s)\n",
            "video 1/1 (83/135) /content/yolov5/../vid.mp4: 352x640 Done. (0.009s)\n",
            "video 1/1 (84/135) /content/yolov5/../vid.mp4: 352x640 Done. (0.007s)\n",
            "video 1/1 (85/135) /content/yolov5/../vid.mp4: 352x640 Done. (0.006s)\n",
            "video 1/1 (86/135) /content/yolov5/../vid.mp4: 352x640 Done. (0.007s)\n",
            "video 1/1 (87/135) /content/yolov5/../vid.mp4: 352x640 Done. (0.007s)\n",
            "video 1/1 (88/135) /content/yolov5/../vid.mp4: 352x640 Done. (0.007s)\n",
            "video 1/1 (89/135) /content/yolov5/../vid.mp4: 352x640 Done. (0.007s)\n",
            "video 1/1 (90/135) /content/yolov5/../vid.mp4: 352x640 Done. (0.007s)\n",
            "video 1/1 (91/135) /content/yolov5/../vid.mp4: 352x640 Done. (0.006s)\n",
            "video 1/1 (92/135) /content/yolov5/../vid.mp4: 352x640 Done. (0.006s)\n",
            "video 1/1 (93/135) /content/yolov5/../vid.mp4: 352x640 Done. (0.006s)\n",
            "video 1/1 (94/135) /content/yolov5/../vid.mp4: 352x640 Done. (0.006s)\n",
            "video 1/1 (95/135) /content/yolov5/../vid.mp4: 352x640 Done. (0.007s)\n",
            "video 1/1 (96/135) /content/yolov5/../vid.mp4: 352x640 Done. (0.006s)\n",
            "video 1/1 (97/135) /content/yolov5/../vid.mp4: 352x640 Done. (0.006s)\n",
            "video 1/1 (98/135) /content/yolov5/../vid.mp4: 352x640 Done. (0.006s)\n",
            "video 1/1 (99/135) /content/yolov5/../vid.mp4: 352x640 Done. (0.006s)\n",
            "video 1/1 (100/135) /content/yolov5/../vid.mp4: 352x640 Done. (0.006s)\n",
            "video 1/1 (101/135) /content/yolov5/../vid.mp4: 352x640 Done. (0.006s)\n",
            "video 1/1 (102/135) /content/yolov5/../vid.mp4: 352x640 Done. (0.006s)\n",
            "video 1/1 (103/135) /content/yolov5/../vid.mp4: 352x640 Done. (0.007s)\n",
            "video 1/1 (104/135) /content/yolov5/../vid.mp4: 352x640 Done. (0.007s)\n",
            "video 1/1 (105/135) /content/yolov5/../vid.mp4: 352x640 Done. (0.006s)\n",
            "video 1/1 (106/135) /content/yolov5/../vid.mp4: 352x640 Done. (0.007s)\n",
            "video 1/1 (107/135) /content/yolov5/../vid.mp4: 352x640 Done. (0.006s)\n",
            "video 1/1 (108/135) /content/yolov5/../vid.mp4: 352x640 Done. (0.006s)\n",
            "video 1/1 (109/135) /content/yolov5/../vid.mp4: 352x640 Done. (0.006s)\n",
            "video 1/1 (110/135) /content/yolov5/../vid.mp4: 352x640 Done. (0.006s)\n",
            "video 1/1 (111/135) /content/yolov5/../vid.mp4: 352x640 Done. (0.007s)\n",
            "video 1/1 (112/135) /content/yolov5/../vid.mp4: 352x640 Done. (0.007s)\n",
            "video 1/1 (113/135) /content/yolov5/../vid.mp4: 352x640 Done. (0.009s)\n",
            "video 1/1 (114/135) /content/yolov5/../vid.mp4: 352x640 Done. (0.006s)\n",
            "video 1/1 (115/135) /content/yolov5/../vid.mp4: 352x640 Done. (0.007s)\n",
            "video 1/1 (116/135) /content/yolov5/../vid.mp4: 352x640 Done. (0.006s)\n",
            "video 1/1 (117/135) /content/yolov5/../vid.mp4: 352x640 Done. (0.007s)\n",
            "video 1/1 (118/135) /content/yolov5/../vid.mp4: 352x640 Done. (0.006s)\n",
            "video 1/1 (119/135) /content/yolov5/../vid.mp4: 352x640 Done. (0.007s)\n",
            "video 1/1 (120/135) /content/yolov5/../vid.mp4: 352x640 Done. (0.007s)\n",
            "video 1/1 (121/135) /content/yolov5/../vid.mp4: 352x640 Done. (0.006s)\n",
            "video 1/1 (122/135) /content/yolov5/../vid.mp4: 352x640 Done. (0.007s)\n",
            "video 1/1 (123/135) /content/yolov5/../vid.mp4: 352x640 Done. (0.006s)\n",
            "video 1/1 (124/135) /content/yolov5/../vid.mp4: 352x640 Done. (0.006s)\n",
            "video 1/1 (125/135) /content/yolov5/../vid.mp4: 352x640 Done. (0.007s)\n",
            "video 1/1 (126/135) /content/yolov5/../vid.mp4: 352x640 Done. (0.006s)\n",
            "video 1/1 (127/135) /content/yolov5/../vid.mp4: 352x640 Done. (0.007s)\n",
            "video 1/1 (128/135) /content/yolov5/../vid.mp4: 352x640 Done. (0.007s)\n",
            "video 1/1 (129/135) /content/yolov5/../vid.mp4: 352x640 Done. (0.007s)\n",
            "video 1/1 (130/135) /content/yolov5/../vid.mp4: 352x640 Done. (0.011s)\n",
            "video 1/1 (131/135) /content/yolov5/../vid.mp4: 352x640 Done. (0.007s)\n",
            "video 1/1 (132/135) /content/yolov5/../vid.mp4: 352x640 Done. (0.008s)\n",
            "video 1/1 (133/135) /content/yolov5/../vid.mp4: 352x640 Done. (0.009s)\n",
            "video 1/1 (134/135) /content/yolov5/../vid.mp4: 352x640 Done. (0.007s)\n",
            "video 1/1 (135/135) /content/yolov5/../vid.mp4: 352x640 Done. (0.006s)\n",
            "Results saved to runs/detect/exp\n",
            "Done. (1.462s)\n"
          ],
          "name": "stdout"
        }
      ]
    },
    {
      "cell_type": "markdown",
      "metadata": {
        "id": "iJC9FLG1SCDL"
      },
      "source": [
        "# 5. visualizamos nuestro video\n",
        "vamos a la carpeta runs/detect/exp y descargamos nuestro video"
      ]
    }
  ]
}